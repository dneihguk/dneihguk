{
 "cells": [
  {
   "cell_type": "markdown",
   "id": "a1901b6b",
   "metadata": {},
   "source": [
    "## Commonly used Mathematical formula\n",
    "\n",
    "Taylor series $$f(x) = f(a) + f'(a)(x-a) + \\frac{1}{2!}f''(a)(x-a)^{2}+.......\\frac{1}{n!}f^{n}(a)(x-a)^{n}$$"
   ]
  },
  {
   "cell_type": "markdown",
   "id": "3c4207fa",
   "metadata": {},
   "source": []
  }
 ],
 "metadata": {
  "kernelspec": {
   "display_name": "Python 3",
   "language": "python",
   "name": "python3"
  },
  "language_info": {
   "codemirror_mode": {
    "name": "ipython",
    "version": 3
   },
   "file_extension": ".py",
   "mimetype": "text/x-python",
   "name": "python",
   "nbconvert_exporter": "python",
   "pygments_lexer": "ipython3",
   "version": "3.8.8"
  }
 },
 "nbformat": 4,
 "nbformat_minor": 5
}
